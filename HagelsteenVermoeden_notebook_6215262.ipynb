{
 "cells": [
  {
   "cell_type": "markdown",
   "metadata": {
    "slideshow": {
     "slide_type": "slide"
    }
   },
   "source": [
    "# Het Hagelsteen vermoeden\n",
    "\n",
    "![alt](http://i.stack.imgur.com/4hBXf.png)\n",
    "\n",
    "##### door: Yaleesa Borgman\n",
    "##### Datum: 16 mei 2016\n"
   ]
  },
  {
   "cell_type": "markdown",
   "metadata": {
    "slideshow": {
     "slide_type": "slide"
    }
   },
   "source": [
    "## Intro - Carl Friedrich Gauss\n",
    "\n",
    "- Wiskundige (en meer) geboren in 1777\n",
    "- Kwam met deze sequence waarbij je altijd bij 1 kon eindigen\n",
    "- Niemand heeft ooit uit kunnen vogelen of dit ook werkelijk klopt\n",
    "\n",
    "De regel luid:\n",
    "\n",
    "![alt](https://upload.wikimedia.org/math/b/b/d/bbdeefe430e05195dc5e47f1302a694f.png)\n"
   ]
  },
  {
   "cell_type": "markdown",
   "metadata": {
    "slideshow": {
     "slide_type": "slide"
    }
   },
   "source": [
    "## Simpele simulatie met python!"
   ]
  },
  {
   "cell_type": "code",
   "execution_count": 1,
   "metadata": {
    "collapsed": false,
    "slideshow": {
     "slide_type": "fragment"
    }
   },
   "outputs": [
    {
     "name": "stdout",
     "output_type": "stream",
     "text": [
      "[6, 3, 10, 5, 16, 8, 4, 2, 1] Stappen: 8\n"
     ]
    }
   ],
   "source": [
    "def hagelsteen(n):\n",
    "    '''Given an natural number, if its even, it devided by 2, \n",
    "    if not its multiplyed by 3 + 1, repeat until its down to 1'''\n",
    "    if type(n) == int:\n",
    "        retList = [n]\n",
    "        while n != 1:\n",
    "            if n % 2 == 0:\n",
    "    #             even\n",
    "                n = n/2\n",
    "            else:\n",
    "    #             odd\n",
    "                n = n * 3 + 1\n",
    "            retList.append(n)\n",
    "\n",
    "        return retList\n",
    "    else:\n",
    "        print \"error, not an integer\"\n",
    "        \n",
    "\n",
    "output = hagelsteen(6)\n",
    "print output, 'Stappen:', len(output)-1"
   ]
  },
  {
   "cell_type": "markdown",
   "metadata": {
    "slideshow": {
     "slide_type": "slide"
    }
   },
   "source": [
    "## Plotje van het aantal stappen\n",
    "\n",
    "- 6 is de 0'de stap\n",
    "- Schiet omhoog \n",
    "- maar na 8 stappen is hij bij 1\n",
    "\n",
    "* lager getal dan 8 in het vorige voorbeeld, maar doet er langer over om bij 1 te komen"
   ]
  },
  {
   "cell_type": "code",
   "execution_count": 2,
   "metadata": {
    "collapsed": false,
    "slideshow": {
     "slide_type": "fragment"
    }
   },
   "outputs": [
    {
     "data": {
      "image/png": "[encoded data removed]",
      "text/plain": [
       "<matplotlib.figure.Figure at 0x104142a90>"
      ]
     },
     "metadata": {},
     "output_type": "display_data"
    }
   ],
   "source": [
    "import matplotlib.pyplot as plt\n",
    "%matplotlib inline\n",
    "\n",
    "def hagelsteenplotje(n):\n",
    "    lijst = hagelsteen(n) \n",
    "    plt.scatter(range(0,len(lijst)),lijst)\n",
    "\n",
    "hagelsteenplotje(6)"
   ]
  },
  {
   "cell_type": "markdown",
   "metadata": {
    "slideshow": {
     "slide_type": "slide"
    }
   },
   "source": [
    "## Slimmere implementatie in python\n",
    "\n",
    "* opzoek naar een snellere/slimmere manier om dit te berekenen:\n",
    "    1. Stappen opslaan in een dictionary \n",
    "    2. Recursief \n",
    "    3. Lijsten opslaan in een dictionary\n",
    "\n"
   ]
  },
  {
   "cell_type": "markdown",
   "metadata": {
    "slideshow": {
     "slide_type": "slide"
    }
   },
   "source": [
    "## Stappen opslaan in dictionary\n",
    "\n",
    "- De bedoeling is dat de dictionary zich vult zich met informatie, hoe voller deze word, hoe slimmer hij zal zijn.\n",
    "- De functie kijkt of het getal die uitgerekend moet worden al een keer is uitgerekend, zo ja, weet hij ook de stappen die erbij horen. Die vult hij dus aan."
   ]
  },
  {
   "cell_type": "code",
   "execution_count": 12,
   "metadata": {
    "collapsed": false,
    "scrolled": false,
    "slideshow": {
     "slide_type": "fragment"
    }
   },
   "outputs": [
    {
     "name": "stdout",
     "output_type": "stream",
     "text": [
      "{8: 3, 4: 2, 6: 8}\n"
     ]
    }
   ],
   "source": [
    "import pprint\n",
    "\n",
    "steenDict = {}\n",
    "def slimmeHagel(n):\n",
    "    global steenDict\n",
    "    l = 1\n",
    "    while n is not 1:\n",
    "        if n in steenDict:\n",
    "            l += steenDict[n]\n",
    "            break\n",
    "        else:\n",
    "            if n % 2 == 0:\n",
    "                n = n / 2\n",
    "            else:\n",
    "                n = n * 3 + 1\n",
    "            l += 1\n",
    "    return l - 1\n",
    "\n",
    "steenDict[6] = slimmeHagel(6)\n",
    "steenDict[4] = slimmeHagel(4)\n",
    "steenDict[8] = slimmeHagel(8)\n",
    "print steenDict\n"
   ]
  },
  {
   "cell_type": "markdown",
   "metadata": {
    "slideshow": {
     "slide_type": "slide"
    }
   },
   "source": [
    "## Plot voor de slimmere functie met k = 1000"
   ]
  },
  {
   "cell_type": "code",
   "execution_count": 41,
   "metadata": {
    "collapsed": false,
    "slideshow": {
     "slide_type": "fragment"
    }
   },
   "outputs": [
    {
     "data": {
      "text/plain": [
       "<matplotlib.collections.PathCollection at 0x108952d50>"
      ]
     },
     "execution_count": 41,
     "metadata": {},
     "output_type": "execute_result"
    },
    {
     "data": {
      "image/png": "[encoded data removed]",
      "text/plain": [
       "<matplotlib.figure.Figure at 0x10a363b50>"
      ]
     },
     "metadata": {},
     "output_type": "display_data"
    }
   ],
   "source": [
    "steenDict = {}\n",
    "def testLijst(k):    \n",
    "    for i in range(1,k):\n",
    "        l = slimmeHagel(i)\n",
    "        steenDict[i] = l\n",
    "    x = range(1,len(steenDict)+1)\n",
    "    y = [steenDict[k] for k in steenDict]\n",
    "    return x, y\n",
    "\n",
    "x,y = testLijst(1000)\n",
    "plt.scatter(x,y)"
   ]
  },
  {
   "cell_type": "markdown",
   "metadata": {
    "slideshow": {
     "slide_type": "slide"
    }
   },
   "source": [
    "## Misschien is recursief wel sneller?\n",
    "\n",
    "- omdat de code korter is, gaat het gevoel uit dat de functie ook sneller zijn taken zal doen, dit is echter niet het geval (zoals later blijkt in de snelheid vergelijking)"
   ]
  },
  {
   "cell_type": "code",
   "execution_count": 29,
   "metadata": {
    "collapsed": false,
    "slideshow": {
     "slide_type": "fragment"
    }
   },
   "outputs": [
    {
     "data": {
      "text/plain": [
       "8"
      ]
     },
     "execution_count": 29,
     "metadata": {},
     "output_type": "execute_result"
    }
   ],
   "source": [
    "def recursiveHagel(n):\n",
    "    if n == 1:\n",
    "        return 1\n",
    "    elif n % 2 == 0:\n",
    "        return 1 + recursiveHagel(n / 2)\n",
    "    else:\n",
    "        return 1 + recursiveHagel(n * 3 + 1)\n",
    "\n",
    "recursiveHagel(6) -1"
   ]
  },
  {
   "cell_type": "markdown",
   "metadata": {
    "collapsed": true,
    "slideshow": {
     "slide_type": "slide"
    }
   },
   "source": [
    "## Lijsten met getallenreeks opslaan in dictionary"
   ]
  },
  {
   "cell_type": "code",
   "execution_count": 23,
   "metadata": {
    "collapsed": false,
    "slideshow": {
     "slide_type": "fragment"
    }
   },
   "outputs": [
    {
     "name": "stdout",
     "output_type": "stream",
     "text": [
      "{1: [1], 2: [2, 1], 3: [3, 10, 5, 16, 8, 4, 2, 1], 4: [4, 2, 1], 5: [5, 16, 8, 4, 2, 1], 8: [8, 4, 2, 1], 10: [10, 5, 16, 8, 4, 2, 1], 16: [16, 8, 4, 2, 1]}\n"
     ]
    }
   ],
   "source": [
    "steenDict = {}\n",
    "\n",
    "def nogSlimmereHagel(n):\n",
    "    global steenDict\n",
    "    lijst = []\n",
    "    if n not in steenDict:\n",
    "        while n is not 1:\n",
    "            if n in steenDict:\n",
    "                lijst = lijst + steenDict[n]\n",
    "                break\n",
    "            else:\n",
    "                lijst.append(n)\n",
    "                if n % 2 == 0:\n",
    "                    n = n / 2\n",
    "                else:\n",
    "                    n = n * 3 + 1\n",
    "    if 1 not in lijst:\n",
    "        lijst.append(1)\n",
    "    return lijst\n",
    "\n",
    "\n",
    "def parseHagelLijst(lijst):\n",
    "    global steenDict\n",
    "    for i,x in enumerate(lijst):\n",
    "        if x not in steenDict:\n",
    "            steenDict[x] = lijst[i:]\n",
    "\n",
    "\n",
    "parseHagelLijst(nogSlimmereHagel(3))\n",
    "\n",
    "print steenDict\n",
    "\n"
   ]
  },
  {
   "cell_type": "markdown",
   "metadata": {
    "slideshow": {
     "slide_type": "slide"
    }
   },
   "source": [
    "## Snelheden vergelijken!\n",
    "\n",
    "- Optie 1, orginele manier, is het langzaamst\n",
    "- Optie 2, stappen opslaan in een dictionary lijkt het snelst te gaan\n",
    "- Optie 3, opslaan met lijsten is wel slimmer qua data structuur, maar zeker niet sneller.\n",
    "- Optie 4, recursief, zoals eerder gezegd niet sneller dan de rest."
   ]
  },
  {
   "cell_type": "code",
   "execution_count": 36,
   "metadata": {
    "collapsed": false,
    "slideshow": {
     "slide_type": "fragment"
    }
   },
   "outputs": [
    {
     "name": "stdout",
     "output_type": "stream",
     "text": [
      "CPU times: user 27.2 ms, sys: 10.4 ms, total: 37.6 ms\n",
      "Wall time: 30.5 ms\n",
      "CPU times: user 4.81 ms, sys: 1.28 ms, total: 6.1 ms\n",
      "Wall time: 5.42 ms\n",
      "CPU times: user 13.7 ms, sys: 439 µs, total: 14.2 ms\n",
      "Wall time: 15 ms\n",
      "CPU times: user 20.1 ms, sys: 368 µs, total: 20.4 ms\n",
      "Wall time: 20.9 ms\n"
     ]
    }
   ],
   "source": [
    "steenDict = {}\n",
    "def testLijst(k, method):\n",
    "    global steenDict\n",
    "    steenDict = {}\n",
    "    if method == \"slimmer\":\n",
    "        for i in range(1,k+1):\n",
    "            parseHagelLijst(nogSlimmereHagel(i))\n",
    "    elif method == \"slim\":\n",
    "        for i in range(1,k+1):\n",
    "            steenDict[i] = slimmeHagel(i)\n",
    "    elif method == \"dom\":\n",
    "        for i in range(1,k+1):\n",
    "            steenDict[i] = hagelsteen(i)\n",
    "    elif method == 'rec':\n",
    "        for i in range(1, k+1):\n",
    "            steenDict[i] = recursiveHagel(i)\n",
    "    else:\n",
    "        print 'dom, slim, slimmer, rec'\n",
    "\n",
    "\n",
    "\n",
    "%time testLijst(1000, 'dom')\n",
    "%time testLijst(1000, 'slim')\n",
    "%time testLijst(1000, 'slimmer')\n",
    "%time testLijst(1000, 'rec')\n"
   ]
  },
  {
   "cell_type": "markdown",
   "metadata": {
    "slideshow": {
     "slide_type": "slide"
    }
   },
   "source": [
    "## Rekenen van stappen naar kleinste getal"
   ]
  },
  {
   "cell_type": "code",
   "execution_count": null,
   "metadata": {
    "collapsed": true,
    "slideshow": {
     "slide_type": "fragment"
    }
   },
   "outputs": [],
   "source": [
    "def totN(n):\n",
    "    global steenDict\n",
    "    count = 0\n",
    "    l = 0\n",
    "    while l is not n:\n",
    "#         if count % 1000000 == 0:\n",
    "#             print '.',\n",
    "        if count > 100000:\n",
    "            return False\n",
    "        count += 1\n",
    "        l = slimmeHagel(count)\n",
    "        steenDict[count] = l\n",
    "    return count\n",
    "        \n",
    "# for i in range(300,900):\n",
    "#     b = totN(i)\n",
    "#     if b:\n",
    "#         print \"\\n\",i, totN(i),\n",
    "#     else:\n",
    "#         print '.',\n",
    "    \n",
    "    \n",
    "# print slimmeHagel(totN(200))\n",
    "\n",
    "\n",
    "\n"
   ]
  }
 ],
 "metadata": {
  "celltoolbar": "Slideshow",
  "kernelspec": {
   "display_name": "Python 2",
   "language": "python",
   "name": "python2"
  },
  "language_info": {
   "codemirror_mode": {
    "name": "ipython",
    "version": 2
   },
   "file_extension": ".py",
   "mimetype": "text/x-python",
   "name": "python",
   "nbconvert_exporter": "python",
   "pygments_lexer": "ipython2",
   "version": "2.7.11"
  }
 },
 "nbformat": 4,
 "nbformat_minor": 0
}
